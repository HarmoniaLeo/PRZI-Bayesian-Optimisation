{
 "cells": [
  {
   "cell_type": "code",
   "execution_count": 2,
   "metadata": {},
   "outputs": [],
   "source": [
    "import pandas as pd\n",
    "import numpy as np\n",
    "\n",
    "results = pd.read_csv(\"results/PRBOvsPRSH_results.csv\")\n",
    "results = results.rename(columns={\"env\":\"e\",\"elapse\":\"v\"})"
   ]
  },
  {
   "cell_type": "code",
   "execution_count": 3,
   "metadata": {},
   "outputs": [
    {
     "data": {
      "text/html": [
       "<div>\n",
       "<style scoped>\n",
       "    .dataframe tbody tr th:only-of-type {\n",
       "        vertical-align: middle;\n",
       "    }\n",
       "\n",
       "    .dataframe tbody tr th {\n",
       "        vertical-align: top;\n",
       "    }\n",
       "\n",
       "    .dataframe thead th {\n",
       "        text-align: right;\n",
       "    }\n",
       "</style>\n",
       "<table border=\"1\" class=\"dataframe\">\n",
       "  <thead>\n",
       "    <tr style=\"text-align: right;\">\n",
       "      <th></th>\n",
       "      <th>e</th>\n",
       "      <th>profit1</th>\n",
       "      <th>profit2</th>\n",
       "    </tr>\n",
       "  </thead>\n",
       "  <tbody>\n",
       "    <tr>\n",
       "      <th>0</th>\n",
       "      <td>0</td>\n",
       "      <td>1005.475</td>\n",
       "      <td>1270.250</td>\n",
       "    </tr>\n",
       "    <tr>\n",
       "      <th>1</th>\n",
       "      <td>0</td>\n",
       "      <td>1369.200</td>\n",
       "      <td>2371.050</td>\n",
       "    </tr>\n",
       "    <tr>\n",
       "      <th>2</th>\n",
       "      <td>0</td>\n",
       "      <td>1503.725</td>\n",
       "      <td>1863.625</td>\n",
       "    </tr>\n",
       "    <tr>\n",
       "      <th>3</th>\n",
       "      <td>0</td>\n",
       "      <td>1557.625</td>\n",
       "      <td>2438.500</td>\n",
       "    </tr>\n",
       "    <tr>\n",
       "      <th>4</th>\n",
       "      <td>0</td>\n",
       "      <td>1243.325</td>\n",
       "      <td>1728.250</td>\n",
       "    </tr>\n",
       "  </tbody>\n",
       "</table>\n",
       "</div>"
      ],
      "text/plain": [
       "   e   profit1   profit2\n",
       "0  0  1005.475  1270.250\n",
       "1  0  1369.200  2371.050\n",
       "2  0  1503.725  1863.625\n",
       "3  0  1557.625  2438.500\n",
       "4  0  1243.325  1728.250"
      ]
     },
     "execution_count": 3,
     "metadata": {},
     "output_type": "execute_result"
    }
   ],
   "source": [
    "results.head(5)"
   ]
  },
  {
   "cell_type": "code",
   "execution_count": 4,
   "metadata": {},
   "outputs": [],
   "source": [
    "results[\"e\"] = results[\"e\"].astype(str)\n",
    "results[\"e\"] = np.where(results[\"e\"]==\"0\",\"Trend\",\"Flat\")"
   ]
  },
  {
   "cell_type": "code",
   "execution_count": 5,
   "metadata": {},
   "outputs": [
    {
     "data": {
      "text/plain": [
       "<matplotlib.legend.Legend at 0x7fd45067ca90>"
      ]
     },
     "execution_count": 5,
     "metadata": {},
     "output_type": "execute_result"
    },
    {
     "data": {
      "image/png": "[encoded data removed]",
      "text/plain": [
       "<Figure size 432x288 with 1 Axes>"
      ]
     },
     "metadata": {
      "needs_background": "light"
     },
     "output_type": "display_data"
    }
   ],
   "source": [
    "import matplotlib.pyplot as plt\n",
    "import seaborn as sns\n",
    "sns.set_style(\"darkgrid\")\n",
    "\n",
    "sns.kdeplot(results[results[\"e\"]==\"Trend\"][\"profit2\"]-results[results[\"e\"]==\"Trend\"][\"profit1\"],shade=True,gridsize=100,legend=True,label=\"Trend\")\n",
    "sns.kdeplot(results[results[\"e\"]==\"Flat\"][\"profit2\"]-results[results[\"e\"]==\"Flat\"][\"profit1\"],shade=True,gridsize=100,legend=True,label=\"Flat\")\n",
    "plt.axvline(x=0, linestyle='--', color='r', label='d = 0')\n",
    "\n",
    "# Add legend and labels to the plot\n",
    "plt.legend()\n",
    "plt.xlabel('Value of d')\n",
    "plt.ylabel('Density')\n",
    "\n",
    "plt.legend()"
   ]
  },
  {
   "cell_type": "code",
   "execution_count": 6,
   "metadata": {},
   "outputs": [],
   "source": [
    "import numpy as np\n",
    "from scipy import stats"
   ]
  },
  {
   "attachments": {},
   "cell_type": "markdown",
   "metadata": {},
   "source": [
    "## Statistics for Flat Market"
   ]
  },
  {
   "cell_type": "code",
   "execution_count": 7,
   "metadata": {},
   "outputs": [
    {
     "data": {
      "text/plain": [
       "0.984815775477728"
      ]
     },
     "execution_count": 7,
     "metadata": {},
     "output_type": "execute_result"
    }
   ],
   "source": [
    "env = \"Flat\"\n",
    "\n",
    "def ksTest(s):\n",
    "\treturn stats.kstest(s, 'norm', (s.mean(), s.std())).pvalue\n",
    "\n",
    "ksTest(results[results[\"e\"]==env][\"profit2\"]-results[results[\"e\"]==env][\"profit1\"])"
   ]
  },
  {
   "cell_type": "code",
   "execution_count": 8,
   "metadata": {},
   "outputs": [
    {
     "name": "stdout",
     "output_type": "stream",
     "text": [
      "18.670150123134153\n",
      "0.0\n"
     ]
    }
   ],
   "source": [
    "import numpy as np\n",
    "from scipy.stats import norm\n",
    "\n",
    "def zTest(s,mu):\n",
    "    var = s.var()*(s.shape[0]-1)/s.shape[0]\n",
    "    n = s.shape[0]\n",
    "    z = (s.mean()-mu)/np.sqrt(var/n)\n",
    "    print(abs(z))\n",
    "    p = 1 - norm.cdf(abs(z))\n",
    "    return p\n",
    "\n",
    "print(zTest(results[results[\"e\"]==env][\"profit2\"]-results[results[\"e\"]==env][\"profit1\"],0))"
   ]
  },
  {
   "cell_type": "code",
   "execution_count": 9,
   "metadata": {},
   "outputs": [
    {
     "data": {
      "text/plain": [
       "1022.4354999999997"
      ]
     },
     "execution_count": 9,
     "metadata": {},
     "output_type": "execute_result"
    }
   ],
   "source": [
    "(results[results[\"e\"]==env][\"profit2\"]-results[results[\"e\"]==env][\"profit1\"]).mean()"
   ]
  },
  {
   "cell_type": "code",
   "execution_count": 10,
   "metadata": {},
   "outputs": [
    {
     "data": {
      "text/plain": [
       "550.3899724352935"
      ]
     },
     "execution_count": 10,
     "metadata": {},
     "output_type": "execute_result"
    }
   ],
   "source": [
    "(results[results[\"e\"]==env][\"profit2\"]-results[results[\"e\"]==env][\"profit1\"]).std()"
   ]
  },
  {
   "attachments": {},
   "cell_type": "markdown",
   "metadata": {},
   "source": [
    "## Statistics for Trend Market"
   ]
  },
  {
   "cell_type": "code",
   "execution_count": 11,
   "metadata": {},
   "outputs": [
    {
     "data": {
      "text/plain": [
       "0.4956914702403634"
      ]
     },
     "execution_count": 11,
     "metadata": {},
     "output_type": "execute_result"
    }
   ],
   "source": [
    "env = \"Trend\"\n",
    "\n",
    "def ksTest(s):\n",
    "\treturn stats.kstest(s, 'norm', (s.mean(), s.std())).pvalue\n",
    "\n",
    "ksTest(results[results[\"e\"]==env][\"profit2\"]-results[results[\"e\"]==env][\"profit1\"])"
   ]
  },
  {
   "cell_type": "code",
   "execution_count": 12,
   "metadata": {},
   "outputs": [
    {
     "name": "stdout",
     "output_type": "stream",
     "text": [
      "21.04637956518784\n",
      "0.0\n"
     ]
    }
   ],
   "source": [
    "def zTest(s,mu):\n",
    "    var = s.var()*(s.shape[0]-1)/s.shape[0]\n",
    "    n = s.shape[0]\n",
    "    z = (s.mean()-mu)/np.sqrt(var/n)\n",
    "    print(abs(z))\n",
    "    p = 1 - norm.cdf(abs(z))\n",
    "    return p\n",
    "\n",
    "print(zTest(results[results[\"e\"]==env][\"profit2\"]-results[results[\"e\"]==env][\"profit1\"],0))"
   ]
  },
  {
   "cell_type": "code",
   "execution_count": 13,
   "metadata": {},
   "outputs": [
    {
     "data": {
      "text/plain": [
       "995.2040000000004"
      ]
     },
     "execution_count": 13,
     "metadata": {},
     "output_type": "execute_result"
    }
   ],
   "source": [
    "(results[results[\"e\"]==env][\"profit2\"]-results[results[\"e\"]==env][\"profit1\"]).mean()"
   ]
  },
  {
   "cell_type": "code",
   "execution_count": 14,
   "metadata": {},
   "outputs": [
    {
     "data": {
      "text/plain": [
       "475.2445192766827"
      ]
     },
     "execution_count": 14,
     "metadata": {},
     "output_type": "execute_result"
    }
   ],
   "source": [
    "(results[results[\"e\"]==env][\"profit2\"]-results[results[\"e\"]==env][\"profit1\"]).std()"
   ]
  }
 ],
 "metadata": {
  "kernelspec": {
   "display_name": "base",
   "language": "python",
   "name": "python3"
  },
  "language_info": {
   "codemirror_mode": {
    "name": "ipython",
    "version": 3
   },
   "file_extension": ".py",
   "mimetype": "text/x-python",
   "name": "python",
   "nbconvert_exporter": "python",
   "pygments_lexer": "ipython3",
   "version": "3.8.3"
  },
  "orig_nbformat": 4,
  "vscode": {
   "interpreter": {
    "hash": "34e3d493db18dfecee561d26c028e75a8172bde10b9fb1f75764229aafdf7eef"
   }
  }
 },
 "nbformat": 4,
 "nbformat_minor": 2
}
