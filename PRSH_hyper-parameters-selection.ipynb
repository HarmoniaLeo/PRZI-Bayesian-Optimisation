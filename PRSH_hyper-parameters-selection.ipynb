{
 "cells": [
  {
   "cell_type": "code",
   "execution_count": 199,
   "metadata": {},
   "outputs": [],
   "source": [
    "import pandas as pd\n",
    "import numpy as np\n",
    "\n",
    "results = pd.read_csv(\"results/PRSH_results.csv\")\n",
    "results = results.rename(columns={\"env\":\"e\",\"mutation\":\"m\",\"elapse\":\"v\"})"
   ]
  },
  {
   "cell_type": "code",
   "execution_count": 200,
   "metadata": {},
   "outputs": [
    {
     "data": {
      "text/plain": [
       "k   v    m\n",
       "6   128  2    1274.50500\n",
       "14  128  1    1274.11675\n",
       "2   256  1    1272.42875\n",
       "4   256  0    1266.09450\n",
       "         1    1265.44775\n",
       "                 ...    \n",
       "12  128  1    1173.70175\n",
       "2   32   1    1164.38675\n",
       "8   32   1    1158.77300\n",
       "14  64   1    1155.30375\n",
       "12  32   1    1136.87450\n",
       "Name: profit, Length: 96, dtype: float64"
      ]
     },
     "execution_count": 200,
     "metadata": {},
     "output_type": "execute_result"
    }
   ],
   "source": [
    "env = 1\n",
    "\n",
    "subset = results[(results[\"e\"]==env)]\n",
    "groups = subset.groupby([\"k\",\"v\",\"m\"])\n",
    "groups[\"profit\"].mean().sort_values(ascending=False)"
   ]
  },
  {
   "cell_type": "code",
   "execution_count": 201,
   "metadata": {},
   "outputs": [],
   "source": [
    "import numpy as np\n",
    "from scipy import stats\n",
    "\n",
    "def ksTest(s):\n",
    "\treturn stats.kstest(s, 'norm', (s.mean(), s.std())).pvalue\n",
    "\n",
    "ksresults = groups[\"profit\"].apply(ksTest)"
   ]
  },
  {
   "cell_type": "code",
   "execution_count": 202,
   "metadata": {},
   "outputs": [
    {
     "name": "stdout",
     "output_type": "stream",
     "text": [
      "2 & 0.97 & 0.82 & 0.24 & 0.86 & 0.38 & 0.32 & 0.88 & 0.97 & 0.98 & 0.78 & 0.8 & 0.74 \\\\ \\hline 4 & 0.37 & 0.89 & 0.76 & 0.91 & 0.99 & 0.99 & 0.91 & 0.97 & 0.62 & 0.85 & 0.98 & 0.87 \\\\ \\hline 6 & 0.83 & 0.94 & 1.0 & 0.53 & 0.88 & 0.92 & 0.58 & 0.98 & 0.82 & 0.78 & 0.63 & 0.99 \\\\ \\hline 8 & 0.61 & 0.27 & 0.51 & 0.97 & 0.32 & 0.7 & 0.96 & 0.7 & 0.94 & 0.82 & 0.67 & 0.24 \\\\ \\hline 10 & 0.97 & 0.99 & 0.94 & 0.99 & 0.54 & 0.94 & 0.74 & 0.72 & 0.14 & 0.51 & 0.95 & 0.99 \\\\ \\hline 12 & 0.99 & 0.74 & 0.17 & 0.63 & 0.45 & 0.95 & 0.97 & 0.51 & 0.99 & 0.99 & 0.99 & 0.73 \\\\ \\hline 14 & 0.52 & 0.88 & 0.52 & 0.67 & 0.89 & 0.99 & 0.24 & 0.99 & 0.5 & 0.71 & 0.91 & 0.99 \\\\ \\hline 16 & 1.0 & 0.83 & 0.51 & 0.75 & 0.96 & 0.68 & 0.93 & 0.95 & 0.99 & 0.77 & 0.32 & 0.98 \\\\ \\hline \n"
     ]
    }
   ],
   "source": [
    "source = \"\"\n",
    "\n",
    "for k in np.unique(results[\"k\"]):\n",
    "    source += str(k) + \" & \"\n",
    "    for m in np.unique(results[\"m\"]):\n",
    "        for i,v in enumerate(np.unique(results[\"v\"])):\n",
    "            kv = (ksresults[(k,v,m)]).round(2)\n",
    "            source += str(kv)\n",
    "            if (i < len(np.unique(results[\"v\"]))-1) or (m<2):\n",
    "                source += \" & \"\n",
    "            else:\n",
    "                source += \" \\\\\\ \\hline \"\n",
    "print(source)"
   ]
  },
  {
   "cell_type": "code",
   "execution_count": 203,
   "metadata": {},
   "outputs": [],
   "source": [
    "import numpy as np\n",
    "from scipy.stats import norm\n",
    "\n",
    "bestk = 6\n",
    "bestv = 128\n",
    "bestm = 2\n",
    "\n",
    "def doublezTest(y):\n",
    "    x = results[(results[\"m\"]==bestm)&(results[\"k\"]==bestk)&(results[\"v\"]==bestv)][\"profit\"]\n",
    "    varx = x.var()*(x.shape[0]-1)/x.shape[0] \n",
    "    vary = y.var()*(y.shape[0]-1)/y.shape[0] \n",
    "    n1 = x.shape[0]\n",
    "    n2 = y.shape[0]\n",
    "    z = (x.mean()-y.mean())/np.sqrt(varx/n1+vary/n2)\n",
    "    p = 1 - norm.cdf(abs(z))\n",
    "    return p\n",
    "\n",
    "zTestResult = groups[\"profit\"].apply(doublezTest)"
   ]
  },
  {
   "cell_type": "code",
   "execution_count": 204,
   "metadata": {},
   "outputs": [
    {
     "name": "stdout",
     "output_type": "stream",
     "text": [
      "2 & 0.07 & \\underline{0.09}_{0.09} & 0.08 & \\underline{0.09}_{0.08} & 0.06 & \\underline{0.09}_{0.06} & 0.08 & \\underline{0.10}_{0.46} & \\underline{0.09}_{0.11} & 0.07 & 0.08 & \\underline{0.09}_{0.06} \\\\ \\hline 4 & \\underline{0.09}_{0.11} & 0.08 & \\underline{0.10}_{0.19} & \\underline{0.10}_{0.38} & 0.07 & 0.08 & 0.09 & \\underline{0.10}_{0.37} & 0.09 & 0.08 & \\underline{0.10}_{0.31} & 0.08 \\\\ \\hline 6 & \\underline{0.09}_{0.10} & 0.08 & 0.09 & 0.09 & 0.08 & 0.09 & \\underline{0.10}_{0.37} & \\underline{0.09}_{0.09} & \\underline{0.09}_{0.10} & \\underline{0.10}_{0.16} & \\textbf{0.10} & \\underline{0.09}_{0.10} \\\\ \\hline 8 & \\underline{0.10}_{0.21} & \\underline{0.10}_{0.30} & 0.08 & 0.08 & 0.06 & 0.08 & 0.08 & 0.08 & 0.08 & \\underline{0.10}_{0.23} & 0.09 & 0.08 \\\\ \\hline 10 & \\underline{0.09}_{0.12} & \\underline{0.09}_{0.05} & 0.08 & \\underline{0.09}_{0.13} & \\underline{0.10}_{0.18} & 0.08 & \\underline{0.09}_{0.06} & 0.09 & 0.07 & 0.09 & \\underline{0.09}_{0.17} & \\underline{0.09}_{0.15} \\\\ \\hline 12 & 0.08 & \\underline{0.10}_{0.19} & 0.08 & \\underline{0.09}_{0.10} & 0.06 & 0.08 & 0.07 & 0.09 & 0.08 & 0.08 & 0.08 & 0.09 \\\\ \\hline 14 & 0.08 & 0.08 & 0.08 & 0.08 & \\underline{0.09}_{0.10} & 0.06 & \\underline{0.10}_{0.48} & \\underline{0.09}_{0.13} & 0.08 & 0.08 & \\underline{0.09}_{0.17} & \\underline{0.10}_{0.35} \\\\ \\hline 16 & 0.09 & 0.08 & 0.07 & \\underline{0.09}_{0.06} & 0.09 & 0.08 & 0.07 & \\underline{0.09}_{0.15} & 0.08 & 0.09 & 0.08 & 0.08 \\\\ \\hline \n"
     ]
    }
   ],
   "source": [
    "source = \"\"\n",
    "\n",
    "paralist = []\n",
    "\n",
    "for k in np.unique(results[\"k\"]):\n",
    "    source += str(k) + \" & \"\n",
    "    for m in np.unique(results[\"m\"]):\n",
    "        for i,v in enumerate(np.unique(results[\"v\"])):\n",
    "            kv = (results[(results[\"k\"]==k)&(results[\"m\"]==m)&(results[\"e\"]==env)&(results[\"v\"]==v)].mean()[\"profit\"]/1000).round(2)\n",
    "            if (k, v, m) == (bestk, bestv, bestm):\n",
    "                source += \"\\\\textbf{%.2f}\" % np.log10(kv)\n",
    "                paralist.append((m, k, v))\n",
    "            elif zTestResult[(k,v,m)]>0.05:\n",
    "                source += \"\\\\underline{%.2f}\" % np.log10(kv) + \"_{%.2f}\" % zTestResult[(k,v,m)].round(2)\n",
    "                paralist.append((m, k, v))\n",
    "            else:\n",
    "                source += str(np.log10(kv).round(2))\n",
    "            if (i < len(np.unique(results[\"v\"]))-1) or (m<2):\n",
    "                source += \" & \"\n",
    "            else:\n",
    "                source += \" \\\\\\ \\hline \"\n",
    "print(source)"
   ]
  },
  {
   "cell_type": "code",
   "execution_count": 205,
   "metadata": {},
   "outputs": [
    {
     "name": "stdout",
     "output_type": "stream",
     "text": [
      "37 [(0, 2, 64), (0, 2, 256), (1, 2, 64), (1, 2, 256), (2, 2, 32), (2, 2, 256), (0, 4, 32), (0, 4, 128), (0, 4, 256), (1, 4, 256), (2, 4, 128), (0, 6, 32), (1, 6, 128), (1, 6, 256), (2, 6, 32), (2, 6, 64), (2, 6, 128), (2, 6, 256), (0, 8, 32), (0, 8, 64), (2, 8, 64), (0, 10, 32), (0, 10, 64), (0, 10, 256), (1, 10, 32), (1, 10, 128), (2, 10, 128), (2, 10, 256), (0, 12, 64), (0, 12, 256), (1, 14, 32), (1, 14, 128), (1, 14, 256), (2, 14, 128), (2, 14, 256), (0, 16, 256), (1, 16, 256)]\n"
     ]
    }
   ],
   "source": [
    "print(len(paralist),paralist)"
   ]
  }
 ],
 "metadata": {
  "interpreter": {
   "hash": "ec6d9dafd5cbf44a7deb0ee208de5a8e6bc375a34e5c6f7aad6a434b6e159539"
  },
  "kernelspec": {
   "display_name": "Python 3.8.3 64-bit ('base': conda)",
   "name": "python3"
  },
  "language_info": {
   "codemirror_mode": {
    "name": "ipython",
    "version": 3
   },
   "file_extension": ".py",
   "mimetype": "text/x-python",
   "name": "python",
   "nbconvert_exporter": "python",
   "pygments_lexer": "ipython3",
   "version": "3.8.3"
  },
  "orig_nbformat": 4
 },
 "nbformat": 4,
 "nbformat_minor": 2
}
