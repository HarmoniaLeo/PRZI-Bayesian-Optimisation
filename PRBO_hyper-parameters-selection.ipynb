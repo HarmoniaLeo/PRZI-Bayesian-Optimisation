{
 "cells": [
  {
   "cell_type": "code",
   "execution_count": 190,
   "metadata": {},
   "outputs": [],
   "source": [
    "import pandas as pd\n",
    "\n",
    "results = pd.read_csv(\"results/PRBO_results.csv\")\n",
    "results = results.rename(columns={\"env\":\"e\",\"elapse\":\"v\"})"
   ]
  },
  {
   "cell_type": "code",
   "execution_count": 191,
   "metadata": {},
   "outputs": [
    {
     "data": {
      "text/html": [
       "<div>\n",
       "<style scoped>\n",
       "    .dataframe tbody tr th:only-of-type {\n",
       "        vertical-align: middle;\n",
       "    }\n",
       "\n",
       "    .dataframe tbody tr th {\n",
       "        vertical-align: top;\n",
       "    }\n",
       "\n",
       "    .dataframe thead th {\n",
       "        text-align: right;\n",
       "    }\n",
       "</style>\n",
       "<table border=\"1\" class=\"dataframe\">\n",
       "  <thead>\n",
       "    <tr style=\"text-align: right;\">\n",
       "      <th></th>\n",
       "      <th>e</th>\n",
       "      <th>k</th>\n",
       "      <th>v</th>\n",
       "      <th>profit</th>\n",
       "    </tr>\n",
       "  </thead>\n",
       "  <tbody>\n",
       "    <tr>\n",
       "      <th>0</th>\n",
       "      <td>0</td>\n",
       "      <td>2</td>\n",
       "      <td>32</td>\n",
       "      <td>2184.475</td>\n",
       "    </tr>\n",
       "    <tr>\n",
       "      <th>1</th>\n",
       "      <td>0</td>\n",
       "      <td>2</td>\n",
       "      <td>32</td>\n",
       "      <td>1621.900</td>\n",
       "    </tr>\n",
       "    <tr>\n",
       "      <th>2</th>\n",
       "      <td>0</td>\n",
       "      <td>2</td>\n",
       "      <td>32</td>\n",
       "      <td>1580.575</td>\n",
       "    </tr>\n",
       "    <tr>\n",
       "      <th>3</th>\n",
       "      <td>0</td>\n",
       "      <td>2</td>\n",
       "      <td>32</td>\n",
       "      <td>2362.650</td>\n",
       "    </tr>\n",
       "    <tr>\n",
       "      <th>4</th>\n",
       "      <td>0</td>\n",
       "      <td>2</td>\n",
       "      <td>32</td>\n",
       "      <td>1643.575</td>\n",
       "    </tr>\n",
       "  </tbody>\n",
       "</table>\n",
       "</div>"
      ],
      "text/plain": [
       "   e  k   v    profit\n",
       "0  0  2  32  2184.475\n",
       "1  0  2  32  1621.900\n",
       "2  0  2  32  1580.575\n",
       "3  0  2  32  2362.650\n",
       "4  0  2  32  1643.575"
      ]
     },
     "execution_count": 191,
     "metadata": {},
     "output_type": "execute_result"
    }
   ],
   "source": [
    "results.head(5)"
   ]
  },
  {
   "cell_type": "code",
   "execution_count": 192,
   "metadata": {},
   "outputs": [
    {
     "data": {
      "text/plain": [
       "k  v  \n",
       "2  32     2352.82775\n",
       "3  128    2323.07875\n",
       "2  256    2322.47375\n",
       "4  64     2320.38075\n",
       "   128    2316.90650\n",
       "3  32     2305.71150\n",
       "4  256    2304.12350\n",
       "3  64     2297.35475\n",
       "   256    2280.56125\n",
       "4  32     2267.62000\n",
       "2  128    2257.24050\n",
       "   64     2230.67375\n",
       "Name: profit, dtype: float64"
      ]
     },
     "execution_count": 192,
     "metadata": {},
     "output_type": "execute_result"
    }
   ],
   "source": [
    "env = 1\n",
    "\n",
    "subset = results[(results[\"e\"]==env)]\n",
    "groups = subset.groupby([\"k\",\"v\"])\n",
    "groups[\"profit\"].mean().sort_values(ascending=False)"
   ]
  },
  {
   "cell_type": "code",
   "execution_count": 193,
   "metadata": {},
   "outputs": [],
   "source": [
    "import numpy as np\n",
    "from scipy import stats\n",
    "\n",
    "def ksTest(s):\n",
    "\treturn stats.kstest(s, 'norm', (s.mean(), s.std())).pvalue\n",
    "\n",
    "ksresults = groups[\"profit\"].apply(ksTest)"
   ]
  },
  {
   "cell_type": "code",
   "execution_count": 194,
   "metadata": {},
   "outputs": [
    {
     "name": "stdout",
     "output_type": "stream",
     "text": [
      "2 & 0.96 & 0.95 & 0.92 & 0.89 \\\\ \\hline 3 & 0.41 & 0.47 & 0.54 & 0.89 \\\\ \\hline 4 & 0.61 & 0.88 & 0.85 & 0.26 \\\\ \\hline \n"
     ]
    }
   ],
   "source": [
    "source = \"\"\n",
    "\n",
    "for k in np.unique(results[\"k\"]):\n",
    "    source += str(k) + \" & \"\n",
    "    for i,v in enumerate(np.unique(results[\"v\"])):\n",
    "        kv = (ksresults[(k,v)]).round(2)\n",
    "        source += str(kv)\n",
    "        if (i < len(np.unique(results[\"v\"]))-1):\n",
    "            source += \" & \"\n",
    "        else:\n",
    "            source += \" \\\\\\ \\hline \"\n",
    "print(source)"
   ]
  },
  {
   "cell_type": "code",
   "execution_count": 195,
   "metadata": {},
   "outputs": [],
   "source": [
    "import numpy as np\n",
    "from scipy.stats import norm\n",
    "\n",
    "bestk = 2\n",
    "bestv = 32\n",
    "\n",
    "def doublezTest(y):\n",
    "    x = results[(results[\"k\"]==bestk)&(results[\"v\"]==bestv)][\"profit\"]\n",
    "    varx = x.var()*(x.shape[0]-1)/x.shape[0] \n",
    "    vary = y.var()*(y.shape[0]-1)/y.shape[0] \n",
    "    n1 = x.shape[0]\n",
    "    n2 = y.shape[0]\n",
    "    z = (x.mean()-y.mean())/np.sqrt(varx/n1+vary/n2)\n",
    "    p = 1 - norm.cdf(abs(z))\n",
    "    return p\n",
    "\n",
    "zTestResult = groups[\"profit\"].apply(doublezTest)"
   ]
  },
  {
   "cell_type": "code",
   "execution_count": 196,
   "metadata": {},
   "outputs": [
    {
     "name": "stdout",
     "output_type": "stream",
     "text": [
      "2 & \\textbf{2.35} & \\underline{2.23}_{0.18} & \\underline{2.26}_{0.33} & \\underline{2.32}_{0.19} \\\\ \\hline 3 & \\underline{2.31}_{0.29} & \\underline{2.30}_{0.36} & \\underline{2.32}_{0.19} & \\underline{2.28}_{0.48} \\\\ \\hline 4 & \\underline{2.27}_{0.41} & \\underline{2.32}_{0.20} & \\underline{2.32}_{0.23} & \\underline{2.30}_{0.30} \\\\ \\hline \n"
     ]
    }
   ],
   "source": [
    "source = \"\"\n",
    "\n",
    "paralist = []\n",
    "\n",
    "for k in np.unique(results[\"k\"]):\n",
    "    source += str(k) + \" & \"\n",
    "    for i,v in enumerate(np.unique(results[\"v\"])):\n",
    "        kv = (results[(results[\"k\"]==k)&(results[\"e\"]==env)&(results[\"v\"]==v)].mean()[\"profit\"]/1000).round(2)\n",
    "        if (k, v) == (bestk, bestv):\n",
    "            source += \"\\\\textbf{%.2f}\" % kv\n",
    "            paralist.append((k, v))\n",
    "        elif zTestResult[(k,v)]>0.05:\n",
    "            source += \"\\\\underline{%.2f}\" % kv + \"_{%.2f}\" % zTestResult[(k,v)].round(2)\n",
    "            paralist.append((k, v))\n",
    "        else:\n",
    "            source += str(kv)\n",
    "        if (i < len(np.unique(results[\"v\"]))-1):\n",
    "            source += \" & \"\n",
    "        else:\n",
    "            source += \" \\\\\\ \\hline \"\n",
    "print(source)"
   ]
  },
  {
   "cell_type": "code",
   "execution_count": 197,
   "metadata": {},
   "outputs": [
    {
     "name": "stdout",
     "output_type": "stream",
     "text": [
      "12 [(2, 32), (2, 64), (2, 128), (2, 256), (3, 32), (3, 64), (3, 128), (3, 256), (4, 32), (4, 64), (4, 128), (4, 256)]\n"
     ]
    }
   ],
   "source": [
    "print(len(paralist),paralist)"
   ]
  }
 ],
 "metadata": {
  "interpreter": {
   "hash": "ec6d9dafd5cbf44a7deb0ee208de5a8e6bc375a34e5c6f7aad6a434b6e159539"
  },
  "kernelspec": {
   "display_name": "Python 3.8.3 64-bit ('base': conda)",
   "name": "python3"
  },
  "language_info": {
   "codemirror_mode": {
    "name": "ipython",
    "version": 3
   },
   "file_extension": ".py",
   "mimetype": "text/x-python",
   "name": "python",
   "nbconvert_exporter": "python",
   "pygments_lexer": "ipython3",
   "version": "3.8.3"
  },
  "orig_nbformat": 4
 },
 "nbformat": 4,
 "nbformat_minor": 2
}
